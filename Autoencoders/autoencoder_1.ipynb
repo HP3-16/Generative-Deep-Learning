{
 "cells": [
  {
   "cell_type": "code",
   "execution_count": 23,
   "metadata": {},
   "outputs": [],
   "source": [
    "import numpy as np\n",
    "import matplotlib.pyplot as plt\n",
    "from keras.layers import Input, Reshape, Conv2D, Conv2DTranspose, LeakyReLU, Flatten, Dense, BatchNormalization, Dropout\n",
    "from keras.models import Model\n",
    "from keras.backend import int_shape, mean,square,random_normal\n",
    "from keras.optimizers import Adam\n",
    "from keras.datasets import mnist\n",
    "from keras.utils import plot_model"
   ]
  },
  {
   "cell_type": "code",
   "execution_count": 5,
   "metadata": {},
   "outputs": [],
   "source": [
    "(x_train,_),(x_test,_) = mnist.load_data()"
   ]
  },
  {
   "cell_type": "code",
   "execution_count": 9,
   "metadata": {},
   "outputs": [],
   "source": [
    "size = x_train.shape[1]\n",
    "x_train = np.reshape(x_train,[-1,size,size,1])\n",
    "x_test = np.reshape(x_test,[-1,size,size,1])"
   ]
  },
  {
   "cell_type": "code",
   "execution_count": 11,
   "metadata": {},
   "outputs": [],
   "source": [
    "x_train = x_train.astype('float32')/255\n",
    "x_test = x_test.astype('float32')/255"
   ]
  },
  {
   "cell_type": "code",
   "execution_count": 12,
   "metadata": {},
   "outputs": [],
   "source": [
    "# Building the network\n",
    "\n",
    "# Network Parameters\n",
    "input_shape = (size,size,1)\n",
    "batch_size = 32\n",
    "kernel_size = 3\n",
    "latent_dim = 16\n",
    "\n",
    "layers = [32,64]"
   ]
  },
  {
   "cell_type": "code",
   "execution_count": 30,
   "metadata": {},
   "outputs": [],
   "source": [
    "# Encoder Network\n",
    "input_layer = Input(shape=input_shape,name='input_encoder_layer')\n",
    "x = input_layer\n",
    "\n",
    "for li in layers:\n",
    "    conv_layer = Conv2D(filters=li,\n",
    "               kernel_size=kernel_size,\n",
    "               strides = 2,\n",
    "               padding='same',\n",
    "               name = 'encoder_conv_2d_layer'+str(li))\n",
    "    x = conv_layer(x)\n",
    "    x = LeakyReLU()(x)\n",
    "\n",
    "    # x = BatchNormalization()(x)\n",
    "    # x = Dropout(rate=0.25)(x)\n",
    "\n",
    "shape = int_shape(x)\n",
    "\n",
    "x = Flatten()(x)\n",
    "z_dim = Dense(latent_dim,name='latent_vector')(x)\n",
    "\n",
    "encoder = Model(input_layer,z_dim,name='Encoder_Network')"
   ]
  },
  {
   "cell_type": "code",
   "execution_count": 29,
   "metadata": {},
   "outputs": [
    {
     "name": "stdout",
     "output_type": "stream",
     "text": [
      "(None, 7, 7, 64)\n",
      "3136\n"
     ]
    }
   ],
   "source": [
    "print(shape)\n",
    "dense_shape = shape[1]*shape[2]*shape[3]\n",
    "print(dense_shape)"
   ]
  },
  {
   "cell_type": "code",
   "execution_count": 31,
   "metadata": {},
   "outputs": [
    {
     "name": "stdout",
     "output_type": "stream",
     "text": [
      "Model: \"Encoder_Network\"\n",
      "_________________________________________________________________\n",
      " Layer (type)                Output Shape              Param #   \n",
      "=================================================================\n",
      " input_encoder_layer (InputL  [(None, 28, 28, 1)]      0         \n",
      " ayer)                                                           \n",
      "                                                                 \n",
      " encoder_conv_2d_layer32 (Co  (None, 14, 14, 32)       320       \n",
      " nv2D)                                                           \n",
      "                                                                 \n",
      " leaky_re_lu_7 (LeakyReLU)   (None, 14, 14, 32)        0         \n",
      "                                                                 \n",
      " encoder_conv_2d_layer64 (Co  (None, 7, 7, 64)         18496     \n",
      " nv2D)                                                           \n",
      "                                                                 \n",
      " leaky_re_lu_8 (LeakyReLU)   (None, 7, 7, 64)          0         \n",
      "                                                                 \n",
      " flatten_3 (Flatten)         (None, 3136)              0         \n",
      "                                                                 \n",
      " latent_vector (Dense)       (None, 16)                50192     \n",
      "                                                                 \n",
      "=================================================================\n",
      "Total params: 69,008\n",
      "Trainable params: 69,008\n",
      "Non-trainable params: 0\n",
      "_________________________________________________________________\n"
     ]
    }
   ],
   "source": [
    "encoder.summary()"
   ]
  },
  {
   "cell_type": "code",
   "execution_count": 33,
   "metadata": {},
   "outputs": [],
   "source": [
    "# Decoder Network\n",
    "latent_input_layer = Input(shape = (latent_dim,), name='decoder_input_layer')\n",
    "\n",
    "x = Dense((dense_shape))(latent_input_layer)\n",
    "x = Reshape((shape[1],shape[2],shape[3]))(x)\n",
    "\n",
    "for li in layers[::-1]:\n",
    "    conv_transpose_layer = Conv2DTranspose(filters=li,\n",
    "                                           kernel_size=kernel_size,\n",
    "                                           strides=2,\n",
    "                                           padding='same',\n",
    "                                           name='decoder_conv_t_layer'+str(li))\n",
    "    x = conv_transpose_layer(x)\n",
    "    x = LeakyReLU()(x)\n",
    "\n",
    "output_layer = Conv2DTranspose(filters=1,\n",
    "                               kernel_size=kernel_size, padding='same',activation='sigmoid',name='decoder_output')(x)\n",
    "\n",
    "decoder = Model(latent_input_layer,output_layer,name='decoder')\n",
    "\n"
   ]
  },
  {
   "cell_type": "code",
   "execution_count": 34,
   "metadata": {},
   "outputs": [
    {
     "name": "stdout",
     "output_type": "stream",
     "text": [
      "Model: \"decoder\"\n",
      "_________________________________________________________________\n",
      " Layer (type)                Output Shape              Param #   \n",
      "=================================================================\n",
      " decoder_input_layer (InputL  [(None, 16)]             0         \n",
      " ayer)                                                           \n",
      "                                                                 \n",
      " dense_1 (Dense)             (None, 3136)              53312     \n",
      "                                                                 \n",
      " reshape_1 (Reshape)         (None, 7, 7, 64)          0         \n",
      "                                                                 \n",
      " decoder_conv_t_layer64 (Con  (None, 14, 14, 64)       36928     \n",
      " v2DTranspose)                                                   \n",
      "                                                                 \n",
      " leaky_re_lu_11 (LeakyReLU)  (None, 14, 14, 64)        0         \n",
      "                                                                 \n",
      " decoder_conv_t_layer32 (Con  (None, 28, 28, 32)       18464     \n",
      " v2DTranspose)                                                   \n",
      "                                                                 \n",
      " leaky_re_lu_12 (LeakyReLU)  (None, 28, 28, 32)        0         \n",
      "                                                                 \n",
      " decoder_output (Conv2DTrans  (None, 28, 28, 1)        289       \n",
      " pose)                                                           \n",
      "                                                                 \n",
      "=================================================================\n",
      "Total params: 108,993\n",
      "Trainable params: 108,993\n",
      "Non-trainable params: 0\n",
      "_________________________________________________________________\n"
     ]
    }
   ],
   "source": [
    "decoder.summary()"
   ]
  },
  {
   "cell_type": "code",
   "execution_count": 35,
   "metadata": {},
   "outputs": [],
   "source": [
    "# Autoencoder Model\n",
    "autoencoder = Model(input_layer,decoder(encoder(input_layer)))"
   ]
  },
  {
   "cell_type": "code",
   "execution_count": 36,
   "metadata": {},
   "outputs": [
    {
     "name": "stdout",
     "output_type": "stream",
     "text": [
      "Model: \"model\"\n",
      "_________________________________________________________________\n",
      " Layer (type)                Output Shape              Param #   \n",
      "=================================================================\n",
      " input_encoder_layer (InputL  [(None, 28, 28, 1)]      0         \n",
      " ayer)                                                           \n",
      "                                                                 \n",
      " Encoder_Network (Functional  (None, 16)               69008     \n",
      " )                                                               \n",
      "                                                                 \n",
      " decoder (Functional)        (None, 28, 28, 1)         108993    \n",
      "                                                                 \n",
      "=================================================================\n",
      "Total params: 178,001\n",
      "Trainable params: 178,001\n",
      "Non-trainable params: 0\n",
      "_________________________________________________________________\n"
     ]
    }
   ],
   "source": [
    "autoencoder.summary()"
   ]
  },
  {
   "cell_type": "code",
   "execution_count": 37,
   "metadata": {},
   "outputs": [],
   "source": [
    "opt = Adam(learning_rate=0.001)\n",
    "autoencoder.compile(loss='mse',optimizer=opt)"
   ]
  },
  {
   "cell_type": "code",
   "execution_count": 38,
   "metadata": {},
   "outputs": [
    {
     "name": "stdout",
     "output_type": "stream",
     "text": [
      "Epoch 1/10\n",
      "1875/1875 [==============================] - 24s 8ms/step - loss: 0.0193 - val_loss: 0.0114\n",
      "Epoch 2/10\n",
      "1875/1875 [==============================] - 19s 10ms/step - loss: 0.0106 - val_loss: 0.0097\n",
      "Epoch 3/10\n",
      "1875/1875 [==============================] - 16s 9ms/step - loss: 0.0095 - val_loss: 0.0090\n",
      "Epoch 4/10\n",
      "1875/1875 [==============================] - 18s 9ms/step - loss: 0.0089 - val_loss: 0.0085\n",
      "Epoch 5/10\n",
      "1875/1875 [==============================] - 19s 10ms/step - loss: 0.0084 - val_loss: 0.0081\n",
      "Epoch 6/10\n",
      "1875/1875 [==============================] - 20s 11ms/step - loss: 0.0081 - val_loss: 0.0080\n",
      "Epoch 7/10\n",
      "1875/1875 [==============================] - 20s 11ms/step - loss: 0.0079 - val_loss: 0.0077\n",
      "Epoch 8/10\n",
      "1875/1875 [==============================] - 22s 12ms/step - loss: 0.0077 - val_loss: 0.0077\n",
      "Epoch 9/10\n",
      "1875/1875 [==============================] - 20s 11ms/step - loss: 0.0076 - val_loss: 0.0078\n",
      "Epoch 10/10\n",
      "1875/1875 [==============================] - 19s 10ms/step - loss: 0.0074 - val_loss: 0.0075\n"
     ]
    },
    {
     "data": {
      "text/plain": [
       "<keras.callbacks.History at 0x2c3ef707e50>"
      ]
     },
     "execution_count": 38,
     "metadata": {},
     "output_type": "execute_result"
    }
   ],
   "source": [
    "autoencoder.fit(x_train,x_train,\n",
    "                batch_size=32,\n",
    "                validation_data=(x_test,x_test),\n",
    "                epochs=10)"
   ]
  },
  {
   "cell_type": "code",
   "execution_count": 39,
   "metadata": {},
   "outputs": [
    {
     "name": "stdout",
     "output_type": "stream",
     "text": [
      "313/313 [==============================] - 1s 4ms/step\n"
     ]
    }
   ],
   "source": [
    "x_hat = autoencoder.predict(x_test)"
   ]
  },
  {
   "cell_type": "code",
   "execution_count": 41,
   "metadata": {},
   "outputs": [],
   "source": [
    "images = np.concatenate([x_test[:8],x_hat[:8]])\n",
    "images = images.reshape([4,4,size,size])"
   ]
  },
  {
   "cell_type": "code",
   "execution_count": 44,
   "metadata": {},
   "outputs": [
    {
     "data": {
      "text/plain": [
       "<matplotlib.image.AxesImage at 0x2c4d7ccf1c0>"
      ]
     },
     "execution_count": 44,
     "metadata": {},
     "output_type": "execute_result"
    },
    {
     "data": {
      "image/png": "[encoded data removed]",
      "text/plain": [
       "<Figure size 640x480 with 1 Axes>"
      ]
     },
     "metadata": {},
     "output_type": "display_data"
    }
   ],
   "source": [
    "plt.imshow(np.vstack([np.hstack(i) for i in images]))"
   ]
  },
  {
   "cell_type": "code",
   "execution_count": null,
   "metadata": {},
   "outputs": [],
   "source": []
  }
 ],
 "metadata": {
  "kernelspec": {
   "display_name": "Python 3",
   "language": "python",
   "name": "python3"
  },
  "language_info": {
   "codemirror_mode": {
    "name": "ipython",
    "version": 3
   },
   "file_extension": ".py",
   "mimetype": "text/x-python",
   "name": "python",
   "nbconvert_exporter": "python",
   "pygments_lexer": "ipython3",
   "version": "3.10.0"
  },
  "orig_nbformat": 4
 },
 "nbformat": 4,
 "nbformat_minor": 2
}
