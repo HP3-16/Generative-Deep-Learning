{
 "cells": [
  {
   "cell_type": "code",
   "execution_count": 14,
   "metadata": {},
   "outputs": [],
   "source": [
    "import numpy as np\n",
    "import os\n",
    "import matplotlib.pyplot as plt\n",
    "from keras.layers import Lambda,Conv2D,Dense,Input,Flatten,Conv2DTranspose,LeakyReLU,Reshape\n",
    "from keras.models import Model\n",
    "from keras import backend as K\n",
    "from keras.callbacks import ReduceLROnPlateau, ModelCheckpoint,EarlyStopping\n",
    "from keras.datasets import mnist"
   ]
  },
  {
   "cell_type": "code",
   "execution_count": 2,
   "metadata": {},
   "outputs": [],
   "source": [
    "(x_train,_),(x_test,_) = mnist.load_data()\n"
   ]
  },
  {
   "cell_type": "code",
   "execution_count": 3,
   "metadata": {},
   "outputs": [],
   "source": [
    "size = x_train.shape[1]\n",
    "x_train = np.reshape(x_train,[-1,size,size,1])\n",
    "x_test = np.reshape(x_test,[-1,size,size,1])"
   ]
  },
  {
   "cell_type": "code",
   "execution_count": 4,
   "metadata": {},
   "outputs": [],
   "source": [
    "x_train = x_train.astype('float32')/255\n",
    "x_test = x_test.astype('float32')/255"
   ]
  },
  {
   "cell_type": "code",
   "execution_count": 5,
   "metadata": {},
   "outputs": [],
   "source": [
    "# Network params\n",
    "layers = [32,64,128]\n",
    "kernel_size = 3\n",
    "batch_size = 32\n",
    "input_shape = (size,size,1)\n",
    "latent_dim = 4\n"
   ]
  },
  {
   "cell_type": "code",
   "execution_count": 6,
   "metadata": {},
   "outputs": [],
   "source": [
    "# Encoder Network\n",
    "input_layer = Input(shape=input_shape,name='input_encoder_layer')\n",
    "x = input_layer\n",
    "\n",
    "for li in layers:\n",
    "    conv_layer = Conv2D(filters=li,\n",
    "               kernel_size=kernel_size,\n",
    "               strides = 2,\n",
    "               padding='same',\n",
    "               name = 'encoder_conv_2d_layer'+str(li))\n",
    "    x = conv_layer(x)\n",
    "    x = LeakyReLU()(x)\n",
    "    \n",
    "shape = K.int_shape(x)\n",
    "\n",
    "x = Flatten()(x)\n",
    "mu = Dense(units = latent_dim,name='mu')(x)\n",
    "\n",
    "log_var = Dense(units=latent_dim,name='log_var')(x)\n",
    "\n",
    "encoder = Model(input_layer,(mu,log_var),name='Encoder_mu_logvar')"
   ]
  },
  {
   "cell_type": "code",
   "execution_count": 8,
   "metadata": {},
   "outputs": [],
   "source": [
    "def sampling(args):\n",
    "    mu,log_var = args\n",
    "    epsilon = K.random_normal(shape=K.shape(mu),mean=0,stddev=1)\n",
    "    z = mu + epsilon * K.exp(log_var/2)\n",
    "\n",
    "    return z"
   ]
  },
  {
   "cell_type": "code",
   "execution_count": 9,
   "metadata": {},
   "outputs": [],
   "source": [
    "encoder_output_layer = Lambda(sampling)([mu,log_var])\n",
    "\n",
    "encoder_model = Model(input_layer,encoder_output_layer)"
   ]
  },
  {
   "cell_type": "code",
   "execution_count": 10,
   "metadata": {},
   "outputs": [
    {
     "name": "stdout",
     "output_type": "stream",
     "text": [
      "Model: \"model\"\n",
      "__________________________________________________________________________________________________\n",
      " Layer (type)                   Output Shape         Param #     Connected to                     \n",
      "==================================================================================================\n",
      " input_encoder_layer (InputLaye  [(None, 28, 28, 1)]  0          []                               \n",
      " r)                                                                                               \n",
      "                                                                                                  \n",
      " encoder_conv_2d_layer32 (Conv2  (None, 14, 14, 32)  320         ['input_encoder_layer[0][0]']    \n",
      " D)                                                                                               \n",
      "                                                                                                  \n",
      " leaky_re_lu (LeakyReLU)        (None, 14, 14, 32)   0           ['encoder_conv_2d_layer32[0][0]']\n",
      "                                                                                                  \n",
      " encoder_conv_2d_layer64 (Conv2  (None, 7, 7, 64)    18496       ['leaky_re_lu[0][0]']            \n",
      " D)                                                                                               \n",
      "                                                                                                  \n",
      " leaky_re_lu_1 (LeakyReLU)      (None, 7, 7, 64)     0           ['encoder_conv_2d_layer64[0][0]']\n",
      "                                                                                                  \n",
      " encoder_conv_2d_layer128 (Conv  (None, 4, 4, 128)   73856       ['leaky_re_lu_1[0][0]']          \n",
      " 2D)                                                                                              \n",
      "                                                                                                  \n",
      " leaky_re_lu_2 (LeakyReLU)      (None, 4, 4, 128)    0           ['encoder_conv_2d_layer128[0][0]'\n",
      "                                                                 ]                                \n",
      "                                                                                                  \n",
      " flatten (Flatten)              (None, 2048)         0           ['leaky_re_lu_2[0][0]']          \n",
      "                                                                                                  \n",
      " mu (Dense)                     (None, 16)           32784       ['flatten[0][0]']                \n",
      "                                                                                                  \n",
      " log_var (Dense)                (None, 16)           32784       ['flatten[0][0]']                \n",
      "                                                                                                  \n",
      " lambda (Lambda)                (None, 16)           0           ['mu[0][0]',                     \n",
      "                                                                  'log_var[0][0]']                \n",
      "                                                                                                  \n",
      "==================================================================================================\n",
      "Total params: 158,240\n",
      "Trainable params: 158,240\n",
      "Non-trainable params: 0\n",
      "__________________________________________________________________________________________________\n"
     ]
    }
   ],
   "source": [
    "encoder_model.summary()"
   ]
  },
  {
   "cell_type": "code",
   "execution_count": 16,
   "metadata": {},
   "outputs": [],
   "source": [
    "# Decoder network\n",
    "dense_shape = shape[1]*shape[2]*shape[3]\n",
    "\n",
    "decoder_input_layer = Input(shape=(latent_dim,),name='decoder_input_layer')\n",
    "\n",
    "x = Dense(dense_shape)(decoder_input_layer)\n",
    "x = Reshape((shape[1],shape[2],shape[3]))(x)\n",
    "\n",
    "for n_units in layers[::-1]:\n",
    "    conv_t_layer = Conv2DTranspose(filters= n_units,\n",
    "                                   kernel_size=kernel_size,\n",
    "                                   strides=2,\n",
    "                                   padding='same')\n",
    "    x = conv_t_layer(x)\n",
    "    x = LeakyReLU()(x)\n",
    "    \n",
    "    decoder_output_layer = Conv2DTranspose(filters = 1,kernel_size=3,padding='same',activation='sigmoid')(x)\n",
    "\n",
    "    decoder_model = Model(decoder_input_layer,decoder_output_layer)"
   ]
  },
  {
   "cell_type": "code",
   "execution_count": 17,
   "metadata": {},
   "outputs": [
    {
     "name": "stdout",
     "output_type": "stream",
     "text": [
      "Model: \"model_5\"\n",
      "_________________________________________________________________\n",
      " Layer (type)                Output Shape              Param #   \n",
      "=================================================================\n",
      " decoder_input_layer (InputL  [(None, 16)]             0         \n",
      " ayer)                                                           \n",
      "                                                                 \n",
      " dense_1 (Dense)             (None, 2048)              34816     \n",
      "                                                                 \n",
      " reshape_1 (Reshape)         (None, 4, 4, 128)         0         \n",
      "                                                                 \n",
      " conv2d_transpose_2 (Conv2DT  (None, 8, 8, 128)        147584    \n",
      " ranspose)                                                       \n",
      "                                                                 \n",
      " leaky_re_lu_5 (LeakyReLU)   (None, 8, 8, 128)         0         \n",
      "                                                                 \n",
      " conv2d_transpose_4 (Conv2DT  (None, 16, 16, 64)       73792     \n",
      " ranspose)                                                       \n",
      "                                                                 \n",
      " leaky_re_lu_6 (LeakyReLU)   (None, 16, 16, 64)        0         \n",
      "                                                                 \n",
      " conv2d_transpose_6 (Conv2DT  (None, 32, 32, 32)       18464     \n",
      " ranspose)                                                       \n",
      "                                                                 \n",
      " leaky_re_lu_7 (LeakyReLU)   (None, 32, 32, 32)        0         \n",
      "                                                                 \n",
      " conv2d_transpose_7 (Conv2DT  (None, 32, 32, 1)        289       \n",
      " ranspose)                                                       \n",
      "                                                                 \n",
      "=================================================================\n",
      "Total params: 274,945\n",
      "Trainable params: 274,945\n",
      "Non-trainable params: 0\n",
      "_________________________________________________________________\n"
     ]
    }
   ],
   "source": [
    "decoder_model.summary()"
   ]
  },
  {
   "cell_type": "code",
   "execution_count": 18,
   "metadata": {},
   "outputs": [],
   "source": [
    "VAE = Model(input_layer,decoder_model(encoder_model(input_layer)))"
   ]
  },
  {
   "cell_type": "code",
   "execution_count": 21,
   "metadata": {},
   "outputs": [
    {
     "name": "stdout",
     "output_type": "stream",
     "text": [
      "Model: \"model_6\"\n",
      "_________________________________________________________________\n",
      " Layer (type)                Output Shape              Param #   \n",
      "=================================================================\n",
      " input_encoder_layer (InputL  [(None, 28, 28, 1)]      0         \n",
      " ayer)                                                           \n",
      "                                                                 \n",
      " model (Functional)          (None, 16)                158240    \n",
      "                                                                 \n",
      " model_5 (Functional)        (None, 32, 32, 1)         274945    \n",
      "                                                                 \n",
      "=================================================================\n",
      "Total params: 433,185\n",
      "Trainable params: 433,185\n",
      "Non-trainable params: 0\n",
      "_________________________________________________________________\n"
     ]
    }
   ],
   "source": [
    "VAE.summary()"
   ]
  },
  {
   "cell_type": "code",
   "execution_count": null,
   "metadata": {},
   "outputs": [],
   "source": []
  }
 ],
 "metadata": {
  "kernelspec": {
   "display_name": "Python 3",
   "language": "python",
   "name": "python3"
  },
  "language_info": {
   "codemirror_mode": {
    "name": "ipython",
    "version": 3
   },
   "file_extension": ".py",
   "mimetype": "text/x-python",
   "name": "python",
   "nbconvert_exporter": "python",
   "pygments_lexer": "ipython3",
   "version": "3.10.0"
  },
  "orig_nbformat": 4
 },
 "nbformat": 4,
 "nbformat_minor": 2
}
