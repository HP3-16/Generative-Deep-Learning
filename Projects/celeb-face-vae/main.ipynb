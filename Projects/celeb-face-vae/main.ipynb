{
 "cells": [
  {
   "cell_type": "code",
   "execution_count": 1,
   "metadata": {},
   "outputs": [],
   "source": [
    "import opendatasets as od\n",
    "import numpy as np\n",
    "import pandas as pd"
   ]
  },
  {
   "cell_type": "code",
   "execution_count": 2,
   "metadata": {},
   "outputs": [],
   "source": [
    "from keras.models import Model\n",
    "import keras.backend as K\n",
    "from keras.backend import mean,square,sum,shape,int_shape,random_normal,exp\n",
    "from keras.layers import Input,Dense,Flatten,Conv2D,Conv2DTranspose,Lambda,Reshape,BatchNormalization,ReLU,LeakyReLU,Dropout,Activation\n",
    "from keras.preprocessing.image import ImageDataGenerator\n",
    "from keras.optimizers import Adam"
   ]
  },
  {
   "cell_type": "code",
   "execution_count": 3,
   "metadata": {},
   "outputs": [
    {
     "name": "stdout",
     "output_type": "stream",
     "text": [
      "Skipping, found downloaded files in \".\\celeba-dataset\" (use force=True to force download)\n"
     ]
    }
   ],
   "source": [
    "od.download('https://www.kaggle.com/datasets/jessicali9530/celeba-dataset')"
   ]
  },
  {
   "cell_type": "code",
   "execution_count": 3,
   "metadata": {},
   "outputs": [],
   "source": [
    "data_path = 'G:\\Generative-deep-learning\\Projects\\celeb-face-vae\\celeba-dataset\\img_align_celeba'"
   ]
  },
  {
   "cell_type": "code",
   "execution_count": 4,
   "metadata": {},
   "outputs": [
    {
     "ename": "",
     "evalue": "",
     "output_type": "error",
     "traceback": [
      "\u001b[1;31mThe Kernel crashed while executing code in the the current cell or a previous cell. Please review the code in the cell(s) to identify a possible cause of the failure. Click <a href='https://aka.ms/vscodeJupyterKernelCrash'>here</a> for more info. View Jupyter <a href='command:jupyter.viewOutput'>log</a> for further details."
     ]
    }
   ],
   "source": [
    "img_rows,img_cols,img_chns = 256,256,3\n",
    "input_dim = (img_rows,img_cols,img_chns)\n",
    "batch_size = 32"
   ]
  },
  {
   "cell_type": "code",
   "execution_count": 24,
   "metadata": {},
   "outputs": [
    {
     "name": "stdout",
     "output_type": "stream",
     "text": [
      "Found 202599 images belonging to 1 classes.\n"
     ]
    }
   ],
   "source": [
    "img_gen = ImageDataGenerator(rescale=1./255,data_format='channels_first')\n",
    "flow = img_gen.flow_from_directory(data_path, target_size=input_dim[:2], batch_size=batch_size,shuffle=True,\n",
    "                                   class_mode='input',subset='training')"
   ]
  },
  {
   "cell_type": "code",
   "execution_count": 11,
   "metadata": {},
   "outputs": [],
   "source": [
    "# network params\n",
    "input_shape = input_dim\n",
    "kernel_size = 3\n",
    "batch_size = 32\n",
    "layers = [32,64,64,64]\n",
    "# intermediate_dim = 100\n",
    "latent_dim = 200\n"
   ]
  },
  {
   "cell_type": "code",
   "execution_count": 18,
   "metadata": {},
   "outputs": [],
   "source": [
    "input_layer = Input(shape=input_shape,name='encoder_input_layer')\n",
    "\n",
    "x = input_layer\n",
    "\n",
    "for layer in layers:\n",
    "    conv_layer = Conv2D(filters=layer, kernel_size=3,strides=2, padding='same')\n",
    "    x = conv_layer(x)\n",
    "    x = BatchNormalization()(x)\n",
    "    x = LeakyReLU()(x)\n",
    "    x = Dropout(rate=0.25)(x)\n",
    "    \n",
    "\n",
    "shape_before_flatten = int_shape(x)\n",
    "\n",
    "x = Flatten()(x)\n",
    "\n",
    "# x = Dense(intermediate_dim)(x)\n",
    "\n",
    "mu = Dense(units=latent_dim, name = 'mu')(x)\n",
    "log_var = Dense(units=latent_dim,name = 'log_var')(x)\n",
    "\n",
    "# encoder_mu_log_var =  Model(input_layer,(mu,log_var))\n",
    "\n",
    "# encoder_mu_log_var.summary()\n"
   ]
  },
  {
   "cell_type": "code",
   "execution_count": 17,
   "metadata": {},
   "outputs": [],
   "source": [
    "# print(shape(mu))"
   ]
  },
  {
   "cell_type": "code",
   "execution_count": 19,
   "metadata": {},
   "outputs": [],
   "source": [
    "def sampling(args):\n",
    "    mu,log_var = args\n",
    "    epsilon = random_normal(shape=shape(mu), mean=0, stddev=1.0)\n",
    "    return mu + exp(0.5 * log_var)*epsilon"
   ]
  },
  {
   "cell_type": "code",
   "execution_count": 20,
   "metadata": {},
   "outputs": [
    {
     "name": "stdout",
     "output_type": "stream",
     "text": [
      "Model: \"model\"\n",
      "__________________________________________________________________________________________________\n",
      " Layer (type)                   Output Shape         Param #     Connected to                     \n",
      "==================================================================================================\n",
      " encoder_input_layer (InputLaye  [(None, 128, 128, 3  0          []                               \n",
      " r)                             )]                                                                \n",
      "                                                                                                  \n",
      " conv2d_4 (Conv2D)              (None, 64, 64, 32)   896         ['encoder_input_layer[0][0]']    \n",
      "                                                                                                  \n",
      " batch_normalization_4 (BatchNo  (None, 64, 64, 32)  128         ['conv2d_4[0][0]']               \n",
      " rmalization)                                                                                     \n",
      "                                                                                                  \n",
      " leaky_re_lu_4 (LeakyReLU)      (None, 64, 64, 32)   0           ['batch_normalization_4[0][0]']  \n",
      "                                                                                                  \n",
      " dropout_4 (Dropout)            (None, 64, 64, 32)   0           ['leaky_re_lu_4[0][0]']          \n",
      "                                                                                                  \n",
      " conv2d_5 (Conv2D)              (None, 32, 32, 64)   18496       ['dropout_4[0][0]']              \n",
      "                                                                                                  \n",
      " batch_normalization_5 (BatchNo  (None, 32, 32, 64)  256         ['conv2d_5[0][0]']               \n",
      " rmalization)                                                                                     \n",
      "                                                                                                  \n",
      " leaky_re_lu_5 (LeakyReLU)      (None, 32, 32, 64)   0           ['batch_normalization_5[0][0]']  \n",
      "                                                                                                  \n",
      " dropout_5 (Dropout)            (None, 32, 32, 64)   0           ['leaky_re_lu_5[0][0]']          \n",
      "                                                                                                  \n",
      " conv2d_6 (Conv2D)              (None, 16, 16, 64)   36928       ['dropout_5[0][0]']              \n",
      "                                                                                                  \n",
      " batch_normalization_6 (BatchNo  (None, 16, 16, 64)  256         ['conv2d_6[0][0]']               \n",
      " rmalization)                                                                                     \n",
      "                                                                                                  \n",
      " leaky_re_lu_6 (LeakyReLU)      (None, 16, 16, 64)   0           ['batch_normalization_6[0][0]']  \n",
      "                                                                                                  \n",
      " dropout_6 (Dropout)            (None, 16, 16, 64)   0           ['leaky_re_lu_6[0][0]']          \n",
      "                                                                                                  \n",
      " conv2d_7 (Conv2D)              (None, 8, 8, 64)     36928       ['dropout_6[0][0]']              \n",
      "                                                                                                  \n",
      " batch_normalization_7 (BatchNo  (None, 8, 8, 64)    256         ['conv2d_7[0][0]']               \n",
      " rmalization)                                                                                     \n",
      "                                                                                                  \n",
      " leaky_re_lu_7 (LeakyReLU)      (None, 8, 8, 64)     0           ['batch_normalization_7[0][0]']  \n",
      "                                                                                                  \n",
      " dropout_7 (Dropout)            (None, 8, 8, 64)     0           ['leaky_re_lu_7[0][0]']          \n",
      "                                                                                                  \n",
      " flatten_1 (Flatten)            (None, 4096)         0           ['dropout_7[0][0]']              \n",
      "                                                                                                  \n",
      " mu (Dense)                     (None, 200)          819400      ['flatten_1[0][0]']              \n",
      "                                                                                                  \n",
      " log_var (Dense)                (None, 200)          819400      ['flatten_1[0][0]']              \n",
      "                                                                                                  \n",
      " lambda (Lambda)                (None, 200)          0           ['mu[0][0]',                     \n",
      "                                                                  'log_var[0][0]']                \n",
      "                                                                                                  \n"
     ]
    },
    {
     "name": "stdout",
     "output_type": "stream",
     "text": [
      "==================================================================================================\n",
      "Total params: 1,732,944\n",
      "Trainable params: 1,732,496\n",
      "Non-trainable params: 448\n",
      "__________________________________________________________________________________________________\n"
     ]
    }
   ],
   "source": [
    "z = Lambda(sampling,output_shape=(latent_dim,))([mu,log_var])\n",
    "\n",
    "encoder = Model(input_layer,[mu,log_var,z])\n",
    "\n",
    "encoder.summary()"
   ]
  },
  {
   "cell_type": "code",
   "execution_count": 25,
   "metadata": {},
   "outputs": [
    {
     "ename": "ValueError",
     "evalue": "Exception encountered when calling layer \"reshape_2\" (type Reshape).\n\ntotal size of new array must be unchanged, input_shape = [4096], output_shape = [128, 128, 64]\n\nCall arguments received by layer \"reshape_2\" (type Reshape):\n  • inputs=tf.Tensor(shape=(None, 4096), dtype=float32)",
     "output_type": "error",
     "traceback": [
      "\u001b[1;31m---------------------------------------------------------------------------\u001b[0m",
      "\u001b[1;31mValueError\u001b[0m                                Traceback (most recent call last)",
      "Cell \u001b[1;32mIn[25], line 10\u001b[0m\n\u001b[0;32m      8\u001b[0m x \u001b[39m=\u001b[39m Dense(decoder_temp_shape)(decoder_input_layer)\n\u001b[0;32m      9\u001b[0m x \u001b[39m=\u001b[39m LeakyReLU()(x)\n\u001b[1;32m---> 10\u001b[0m x \u001b[39m=\u001b[39m Reshape((\u001b[39m128\u001b[39;49m,\u001b[39m128\u001b[39;49m,\u001b[39m64\u001b[39;49m))(x)\n\u001b[0;32m     12\u001b[0m \u001b[39mfor\u001b[39;00m layer \u001b[39min\u001b[39;00m layers[::\u001b[39m-\u001b[39m\u001b[39m1\u001b[39m]:\n\u001b[0;32m     13\u001b[0m     conv_t_layer \u001b[39m=\u001b[39m Conv2DTranspose(filters\u001b[39m=\u001b[39mlayer, kernel_size\u001b[39m=\u001b[39m\u001b[39m3\u001b[39m, strides\u001b[39m=\u001b[39m\u001b[39m2\u001b[39m, padding\u001b[39m=\u001b[39m\u001b[39m'\u001b[39m\u001b[39msame\u001b[39m\u001b[39m'\u001b[39m)\n",
      "File \u001b[1;32md:\\condaa\\envs\\tflow2.9\\lib\\site-packages\\keras\\utils\\traceback_utils.py:67\u001b[0m, in \u001b[0;36mfilter_traceback.<locals>.error_handler\u001b[1;34m(*args, **kwargs)\u001b[0m\n\u001b[0;32m     65\u001b[0m \u001b[39mexcept\u001b[39;00m \u001b[39mException\u001b[39;00m \u001b[39mas\u001b[39;00m e:  \u001b[39m# pylint: disable=broad-except\u001b[39;00m\n\u001b[0;32m     66\u001b[0m   filtered_tb \u001b[39m=\u001b[39m _process_traceback_frames(e\u001b[39m.\u001b[39m__traceback__)\n\u001b[1;32m---> 67\u001b[0m   \u001b[39mraise\u001b[39;00m e\u001b[39m.\u001b[39mwith_traceback(filtered_tb) \u001b[39mfrom\u001b[39;00m \u001b[39mNone\u001b[39m\n\u001b[0;32m     68\u001b[0m \u001b[39mfinally\u001b[39;00m:\n\u001b[0;32m     69\u001b[0m   \u001b[39mdel\u001b[39;00m filtered_tb\n",
      "File \u001b[1;32md:\\condaa\\envs\\tflow2.9\\lib\\site-packages\\keras\\layers\\reshaping\\reshape.py:111\u001b[0m, in \u001b[0;36mReshape._fix_unknown_dimension\u001b[1;34m(self, input_shape, output_shape)\u001b[0m\n\u001b[0;32m    109\u001b[0m   output_shape[unknown] \u001b[39m=\u001b[39m original \u001b[39m/\u001b[39m\u001b[39m/\u001b[39m known\n\u001b[0;32m    110\u001b[0m \u001b[39melif\u001b[39;00m original \u001b[39m!=\u001b[39m known:\n\u001b[1;32m--> 111\u001b[0m   \u001b[39mraise\u001b[39;00m \u001b[39mValueError\u001b[39;00m(msg)\n\u001b[0;32m    112\u001b[0m \u001b[39mreturn\u001b[39;00m output_shape\n",
      "\u001b[1;31mValueError\u001b[0m: Exception encountered when calling layer \"reshape_2\" (type Reshape).\n\ntotal size of new array must be unchanged, input_shape = [4096], output_shape = [128, 128, 64]\n\nCall arguments received by layer \"reshape_2\" (type Reshape):\n  • inputs=tf.Tensor(shape=(None, 4096), dtype=float32)"
     ]
    }
   ],
   "source": [
    "# Decoder\n",
    "decoder_temp_shape = np.prod(shape_before_flatten[1:])\n",
    "\n",
    "decoder_input_layer = Input(shape=(latent_dim,),name='decoder_input')\n",
    "\n",
    "\n",
    "\n",
    "x = Dense(decoder_temp_shape)(decoder_input_layer)\n",
    "x = LeakyReLU()(x)\n",
    "x = Reshape((128,128,64))(x)\n",
    "\n",
    "for layer in layers[::-1]:\n",
    "    conv_t_layer = Conv2DTranspose(filters=layer, kernel_size=3, strides=2, padding='same')\n",
    "    x = conv_t_layer(x)\n",
    "    x = BatchNormalization()(x)\n",
    "    x = LeakyReLU()(x)\n",
    "    x = Dropout(rate=0.25)(x)\n",
    "\n",
    "decoder_output_layer = Activation('sigmoid')(x)\n",
    "\n",
    "decoder = Model(decoder_input_layer,decoder_output_layer)"
   ]
  },
  {
   "cell_type": "code",
   "execution_count": 13,
   "metadata": {},
   "outputs": [
    {
     "name": "stdout",
     "output_type": "stream",
     "text": [
      "Model: \"model_1\"\n",
      "_________________________________________________________________\n",
      " Layer (type)                Output Shape              Param #   \n",
      "=================================================================\n",
      " decoder_input (InputLayer)  [(None, 200)]             0         \n",
      "                                                                 \n",
      " dense (Dense)               (None, 4096)              823296    \n",
      "                                                                 \n",
      " leaky_re_lu_4 (LeakyReLU)   (None, 4096)              0         \n",
      "                                                                 \n",
      " reshape (Reshape)           (None, 8, 8, 64)          0         \n",
      "                                                                 \n",
      " conv2d_transpose (Conv2DTra  (None, 16, 16, 64)       36928     \n",
      " nspose)                                                         \n",
      "                                                                 \n",
      " batch_normalization_4 (Batc  (None, 16, 16, 64)       256       \n",
      " hNormalization)                                                 \n",
      "                                                                 \n",
      " leaky_re_lu_5 (LeakyReLU)   (None, 16, 16, 64)        0         \n",
      "                                                                 \n",
      " dropout_4 (Dropout)         (None, 16, 16, 64)        0         \n",
      "                                                                 \n",
      " conv2d_transpose_1 (Conv2DT  (None, 32, 32, 64)       36928     \n",
      " ranspose)                                                       \n",
      "                                                                 \n",
      " batch_normalization_5 (Batc  (None, 32, 32, 64)       256       \n",
      " hNormalization)                                                 \n",
      "                                                                 \n",
      " leaky_re_lu_6 (LeakyReLU)   (None, 32, 32, 64)        0         \n",
      "                                                                 \n",
      " dropout_5 (Dropout)         (None, 32, 32, 64)        0         \n",
      "                                                                 \n",
      " conv2d_transpose_2 (Conv2DT  (None, 64, 64, 64)       36928     \n",
      " ranspose)                                                       \n",
      "                                                                 \n",
      " batch_normalization_6 (Batc  (None, 64, 64, 64)       256       \n",
      " hNormalization)                                                 \n",
      "                                                                 \n",
      " leaky_re_lu_7 (LeakyReLU)   (None, 64, 64, 64)        0         \n",
      "                                                                 \n",
      " dropout_6 (Dropout)         (None, 64, 64, 64)        0         \n",
      "                                                                 \n",
      " conv2d_transpose_3 (Conv2DT  (None, 128, 128, 32)     18464     \n",
      " ranspose)                                                       \n",
      "                                                                 \n",
      " batch_normalization_7 (Batc  (None, 128, 128, 32)     128       \n",
      " hNormalization)                                                 \n",
      "                                                                 \n",
      " leaky_re_lu_8 (LeakyReLU)   (None, 128, 128, 32)      0         \n",
      "                                                                 \n",
      " dropout_7 (Dropout)         (None, 128, 128, 32)      0         \n",
      "                                                                 \n",
      " activation (Activation)     (None, 128, 128, 32)      0         \n",
      "                                                                 \n",
      "=================================================================\n",
      "Total params: 953,440\n",
      "Trainable params: 952,992\n",
      "Non-trainable params: 448\n",
      "_________________________________________________________________\n"
     ]
    }
   ],
   "source": [
    "decoder.summary()"
   ]
  },
  {
   "cell_type": "code",
   "execution_count": 14,
   "metadata": {},
   "outputs": [
    {
     "name": "stdout",
     "output_type": "stream",
     "text": [
      "Model: \"VAE\"\n",
      "_________________________________________________________________\n",
      " Layer (type)                Output Shape              Param #   \n",
      "=================================================================\n",
      " encoder_input_layer (InputL  [(None, 128, 128, 3)]    0         \n",
      " ayer)                                                           \n",
      "                                                                 \n",
      " model (Functional)          [(None, 200),             1732944   \n",
      "                              (None, 200),                       \n",
      "                              (None, 200)]                       \n",
      "                                                                 \n",
      " model_1 (Functional)        (None, 128, 128, 32)      953440    \n",
      "                                                                 \n",
      "=================================================================\n",
      "Total params: 2,686,384\n",
      "Trainable params: 2,685,488\n",
      "Non-trainable params: 896\n",
      "_________________________________________________________________\n"
     ]
    }
   ],
   "source": [
    "outs = decoder(encoder(input_layer)[2])\n",
    "VAE = Model(input_layer,outs,name='VAE')\n",
    "VAE.summary()"
   ]
  },
  {
   "cell_type": "code",
   "execution_count": 20,
   "metadata": {},
   "outputs": [],
   "source": [
    "from keras.optimizers import RMSprop,Adam\n",
    "from keras.losses import mse\n",
    "import keras.backend as K\n",
    "from keras.metrics import binary_crossentropy\n",
    "\n",
    "reconstruction_loss = mse(K.flatten(input_layer),K.flatten(outs))\n",
    "reconstruction_loss *= 128 * 128\n",
    "\n",
    "kl_loss = 1 + log_var - square(mu) - exp(log_var)\n",
    "kl_loss = sum(kl_loss,axis=-1)\n",
    "kl_loss *= -0.5\n",
    "\n",
    "vae_loss = mean(reconstruction_loss+kl_loss)"
   ]
  },
  {
   "cell_type": "code",
   "execution_count": 21,
   "metadata": {},
   "outputs": [],
   "source": [
    "def my_vae_loss(y_true, y_pred):\n",
    "    xent_loss = 128 * 128 * binary_crossentropy(K.flatten(y_true), K.flatten(y_pred))\n",
    "    kl_loss = - 0.5 * K.sum(1 + log_var - K.square(mu) - K.exp(log_var), axis=-1)\n",
    "    vae_loss = K.mean(xent_loss + kl_loss)\n",
    "    return vae_loss"
   ]
  },
  {
   "cell_type": "code",
   "execution_count": 22,
   "metadata": {},
   "outputs": [
    {
     "name": "stdout",
     "output_type": "stream",
     "text": [
      "Model: \"VAE\"\n",
      "_________________________________________________________________\n",
      " Layer (type)                Output Shape              Param #   \n",
      "=================================================================\n",
      " encoder_input_layer (InputL  [(None, 128, 128, 3)]    0         \n",
      " ayer)                                                           \n",
      "                                                                 \n",
      " model (Functional)          [(None, 200),             1732944   \n",
      "                              (None, 200),                       \n",
      "                              (None, 200)]                       \n",
      "                                                                 \n",
      " model_1 (Functional)        (None, 128, 128, 32)      953440    \n",
      "                                                                 \n",
      "=================================================================\n",
      "Total params: 2,686,384\n",
      "Trainable params: 2,685,488\n",
      "Non-trainable params: 896\n",
      "_________________________________________________________________\n"
     ]
    }
   ],
   "source": [
    "VAE.compile(optimizer='adam', loss = my_vae_loss)\n",
    "VAE.summary()"
   ]
  },
  {
   "cell_type": "code",
   "execution_count": null,
   "metadata": {},
   "outputs": [],
   "source": [
    "# from keras.callbacks import LearningRateScheduler\n",
    "# num_epochs = 100\n",
    "# learning_rate = 0.0005\n",
    "# def schedule(epochs,lr,decay=0.5):\n",
    "#     new_lr = lr*(decay**epochs)\n",
    "#     return new_lr\n",
    "\n",
    "\n",
    "# lr_scheduler = LearningRateScheduler(schedule=schedule(num_epochs,learning_rate))"
   ]
  },
  {
   "cell_type": "code",
   "execution_count": 25,
   "metadata": {},
   "outputs": [
    {
     "name": "stdout",
     "output_type": "stream",
     "text": [
      "Epoch 1/100\n"
     ]
    },
    {
     "ename": "TypeError",
     "evalue": "in user code:\n\n    File \"d:\\condaa\\envs\\tflow2.9\\lib\\site-packages\\keras\\engine\\training.py\", line 1051, in train_function  *\n        return step_function(self, iterator)\n    File \"d:\\condaa\\envs\\tflow2.9\\lib\\site-packages\\keras\\engine\\training.py\", line 1040, in step_function  **\n        outputs = model.distribute_strategy.run(run_step, args=(data,))\n    File \"d:\\condaa\\envs\\tflow2.9\\lib\\site-packages\\keras\\engine\\training.py\", line 1030, in run_step  **\n        outputs = model.train_step(data)\n    File \"d:\\condaa\\envs\\tflow2.9\\lib\\site-packages\\keras\\engine\\training.py\", line 890, in train_step\n        loss = self.compute_loss(x, y, y_pred, sample_weight)\n    File \"d:\\condaa\\envs\\tflow2.9\\lib\\site-packages\\keras\\engine\\training.py\", line 948, in compute_loss\n        return self.compiled_loss(\n    File \"d:\\condaa\\envs\\tflow2.9\\lib\\site-packages\\keras\\engine\\compile_utils.py\", line 239, in __call__\n        self._loss_metric.update_state(\n    File \"d:\\condaa\\envs\\tflow2.9\\lib\\site-packages\\keras\\utils\\metrics_utils.py\", line 70, in decorated\n        update_op = update_state_fn(*args, **kwargs)\n    File \"d:\\condaa\\envs\\tflow2.9\\lib\\site-packages\\keras\\metrics\\base_metric.py\", line 140, in update_state_fn\n        return ag_update_state(*args, **kwargs)\n    File \"d:\\condaa\\envs\\tflow2.9\\lib\\site-packages\\keras\\metrics\\base_metric.py\", line 449, in update_state  **\n        sample_weight = tf.__internal__.ops.broadcast_weights(\n    File \"d:\\condaa\\envs\\tflow2.9\\lib\\site-packages\\keras\\engine\\keras_tensor.py\", line 254, in __array__\n        raise TypeError(\n\n    TypeError: You are passing KerasTensor(type_spec=TensorSpec(shape=(), dtype=tf.float32, name=None), name='Placeholder:0', description=\"created by layer 'tf.cast_7'\"), an intermediate Keras symbolic input/output, to a TF API that does not allow registering custom dispatchers, such as `tf.cond`, `tf.function`, gradient tapes, or `tf.map_fn`. Keras Functional model construction only supports TF API calls that *do* support dispatching, such as `tf.math.add` or `tf.reshape`. Other APIs cannot be called directly on symbolic Kerasinputs/outputs. You can work around this limitation by putting the operation in a custom Keras layer `call` and calling that layer on this symbolic input/output.\n",
     "output_type": "error",
     "traceback": [
      "\u001b[1;31m---------------------------------------------------------------------------\u001b[0m",
      "\u001b[1;31mTypeError\u001b[0m                                 Traceback (most recent call last)",
      "Cell \u001b[1;32mIn[25], line 1\u001b[0m\n\u001b[1;32m----> 1\u001b[0m VAE\u001b[39m.\u001b[39;49mfit(flow,shuffle \u001b[39m=\u001b[39;49m \u001b[39mTrue\u001b[39;49;00m, epochs \u001b[39m=\u001b[39;49m \u001b[39m100\u001b[39;49m)\n",
      "File \u001b[1;32md:\\condaa\\envs\\tflow2.9\\lib\\site-packages\\keras\\utils\\traceback_utils.py:67\u001b[0m, in \u001b[0;36mfilter_traceback.<locals>.error_handler\u001b[1;34m(*args, **kwargs)\u001b[0m\n\u001b[0;32m     65\u001b[0m \u001b[39mexcept\u001b[39;00m \u001b[39mException\u001b[39;00m \u001b[39mas\u001b[39;00m e:  \u001b[39m# pylint: disable=broad-except\u001b[39;00m\n\u001b[0;32m     66\u001b[0m   filtered_tb \u001b[39m=\u001b[39m _process_traceback_frames(e\u001b[39m.\u001b[39m__traceback__)\n\u001b[1;32m---> 67\u001b[0m   \u001b[39mraise\u001b[39;00m e\u001b[39m.\u001b[39mwith_traceback(filtered_tb) \u001b[39mfrom\u001b[39;00m \u001b[39mNone\u001b[39m\n\u001b[0;32m     68\u001b[0m \u001b[39mfinally\u001b[39;00m:\n\u001b[0;32m     69\u001b[0m   \u001b[39mdel\u001b[39;00m filtered_tb\n",
      "File \u001b[1;32m~\\AppData\\Local\\Temp\\__autograph_generated_fileoa89a1xp.py:15\u001b[0m, in \u001b[0;36mouter_factory.<locals>.inner_factory.<locals>.tf__train_function\u001b[1;34m(iterator)\u001b[0m\n\u001b[0;32m     13\u001b[0m \u001b[39mtry\u001b[39;00m:\n\u001b[0;32m     14\u001b[0m     do_return \u001b[39m=\u001b[39m \u001b[39mTrue\u001b[39;00m\n\u001b[1;32m---> 15\u001b[0m     retval_ \u001b[39m=\u001b[39m ag__\u001b[39m.\u001b[39mconverted_call(ag__\u001b[39m.\u001b[39mld(step_function), (ag__\u001b[39m.\u001b[39mld(\u001b[39mself\u001b[39m), ag__\u001b[39m.\u001b[39mld(iterator)), \u001b[39mNone\u001b[39;00m, fscope)\n\u001b[0;32m     16\u001b[0m \u001b[39mexcept\u001b[39;00m:\n\u001b[0;32m     17\u001b[0m     do_return \u001b[39m=\u001b[39m \u001b[39mFalse\u001b[39;00m\n",
      "\u001b[1;31mTypeError\u001b[0m: in user code:\n\n    File \"d:\\condaa\\envs\\tflow2.9\\lib\\site-packages\\keras\\engine\\training.py\", line 1051, in train_function  *\n        return step_function(self, iterator)\n    File \"d:\\condaa\\envs\\tflow2.9\\lib\\site-packages\\keras\\engine\\training.py\", line 1040, in step_function  **\n        outputs = model.distribute_strategy.run(run_step, args=(data,))\n    File \"d:\\condaa\\envs\\tflow2.9\\lib\\site-packages\\keras\\engine\\training.py\", line 1030, in run_step  **\n        outputs = model.train_step(data)\n    File \"d:\\condaa\\envs\\tflow2.9\\lib\\site-packages\\keras\\engine\\training.py\", line 890, in train_step\n        loss = self.compute_loss(x, y, y_pred, sample_weight)\n    File \"d:\\condaa\\envs\\tflow2.9\\lib\\site-packages\\keras\\engine\\training.py\", line 948, in compute_loss\n        return self.compiled_loss(\n    File \"d:\\condaa\\envs\\tflow2.9\\lib\\site-packages\\keras\\engine\\compile_utils.py\", line 239, in __call__\n        self._loss_metric.update_state(\n    File \"d:\\condaa\\envs\\tflow2.9\\lib\\site-packages\\keras\\utils\\metrics_utils.py\", line 70, in decorated\n        update_op = update_state_fn(*args, **kwargs)\n    File \"d:\\condaa\\envs\\tflow2.9\\lib\\site-packages\\keras\\metrics\\base_metric.py\", line 140, in update_state_fn\n        return ag_update_state(*args, **kwargs)\n    File \"d:\\condaa\\envs\\tflow2.9\\lib\\site-packages\\keras\\metrics\\base_metric.py\", line 449, in update_state  **\n        sample_weight = tf.__internal__.ops.broadcast_weights(\n    File \"d:\\condaa\\envs\\tflow2.9\\lib\\site-packages\\keras\\engine\\keras_tensor.py\", line 254, in __array__\n        raise TypeError(\n\n    TypeError: You are passing KerasTensor(type_spec=TensorSpec(shape=(), dtype=tf.float32, name=None), name='Placeholder:0', description=\"created by layer 'tf.cast_7'\"), an intermediate Keras symbolic input/output, to a TF API that does not allow registering custom dispatchers, such as `tf.cond`, `tf.function`, gradient tapes, or `tf.map_fn`. Keras Functional model construction only supports TF API calls that *do* support dispatching, such as `tf.math.add` or `tf.reshape`. Other APIs cannot be called directly on symbolic Kerasinputs/outputs. You can work around this limitation by putting the operation in a custom Keras layer `call` and calling that layer on this symbolic input/output.\n"
     ]
    }
   ],
   "source": [
    "\n",
    "VAE.fit(flow,shuffle = True, epochs = 100)"
   ]
  },
  {
   "cell_type": "code",
   "execution_count": null,
   "metadata": {},
   "outputs": [],
   "source": []
  }
 ],
 "metadata": {
  "kernelspec": {
   "display_name": "Python 3",
   "language": "python",
   "name": "python3"
  },
  "language_info": {
   "codemirror_mode": {
    "name": "ipython",
    "version": 3
   },
   "file_extension": ".py",
   "mimetype": "text/x-python",
   "name": "python",
   "nbconvert_exporter": "python",
   "pygments_lexer": "ipython3",
   "version": "3.10.0"
  },
  "orig_nbformat": 4
 },
 "nbformat": 4,
 "nbformat_minor": 2
}
