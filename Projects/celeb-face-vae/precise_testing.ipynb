{
 "cells": [
  {
   "cell_type": "code",
   "execution_count": 9,
   "metadata": {},
   "outputs": [],
   "source": [
    "import numpy as np\n",
    "\n",
    "from keras.models import Model\n",
    "from keras.layers import Input\n",
    "from keras.layers import Conv2D,Conv2DTranspose,Flatten,Dense,Reshape\n",
    "from keras.layers import LeakyReLU,BatchNormalization,Dropout,Lambda\n",
    "\n",
    "from keras.preprocessing.image import ImageDataGenerator\n",
    "\n",
    "import keras.backend as K\n",
    "\n",
    "from keras.optimizers import Adam,RMSprop\n",
    "\n"
   ]
  },
  {
   "attachments": {},
   "cell_type": "markdown",
   "metadata": {},
   "source": [
    "Keras Config"
   ]
  },
  {
   "cell_type": "code",
   "execution_count": 2,
   "metadata": {},
   "outputs": [
    {
     "name": "stdout",
     "output_type": "stream",
     "text": [
      "Keras Backend:  tensorflow\n",
      "Image Format :  channels_last\n"
     ]
    }
   ],
   "source": [
    "print(\"Keras Backend: \",K.backend())\n",
    "print(\"Image Format : \",K.image_data_format())\n",
    "\n",
    "K.set_image_data_format('channels_last')"
   ]
  },
  {
   "attachments": {},
   "cell_type": "markdown",
   "metadata": {},
   "source": [
    "Building the Network"
   ]
  },
  {
   "cell_type": "code",
   "execution_count": 3,
   "metadata": {},
   "outputs": [
    {
     "name": "stdout",
     "output_type": "stream",
     "text": [
      "Original Image Shape =  (128, 128, 3)\n"
     ]
    }
   ],
   "source": [
    "img_rows,img_cols,img_chns = 128,128,3\n",
    "\n",
    "input_size = (img_rows,img_cols,img_chns)\n",
    "\n",
    "filters = 64\n",
    "kernel_size = 3\n",
    "batch_size = 32\n",
    "latent_dim = 200\n",
    "intermed_dim = 100\n",
    "num_epochs = 10\n",
    "\n",
    "print('Original Image Shape = ',input_size)"
   ]
  },
  {
   "cell_type": "code",
   "execution_count": 4,
   "metadata": {},
   "outputs": [],
   "source": [
    "input_layer = Input(shape=input_size)\n",
    "x = input_layer\n",
    "#Conv Layer - 1\n",
    "x = Conv2D(filters=img_chns, kernel_size=(2,2),padding='same')(x)\n",
    "x = LeakyReLU()(x)\n",
    "#Conv Layer - 2\n",
    "x = Conv2D(filters=filters, kernel_size=(2,2), padding='same')(x)\n",
    "x = LeakyReLU()(x)\n",
    "#Conv Layer - 3\n",
    "x = Conv2D(filters=filters, kernel_size=3, padding='same')(x)\n",
    "x = LeakyReLU()(x)\n",
    "#Conv Layer - 4\n",
    "x = Conv2D(filters=filters, kernel_size=3, padding='same')(x)\n",
    "x = LeakyReLU()(x)\n",
    "shape_before_flatten = K.int_shape(x)\n",
    "#Flatten Layer\n",
    "x = Flatten()(x)\n",
    "#Intermediate hidden layer\n",
    "x = Dense(intermed_dim)(x)\n",
    "x = LeakyReLU()(x)\n",
    "\n",
    "mu = Dense(latent_dim)(x)\n",
    "log_var = Dense(latent_dim)(x)"
   ]
  },
  {
   "cell_type": "code",
   "execution_count": 5,
   "metadata": {},
   "outputs": [],
   "source": [
    "def sampling(args):\n",
    "    mu,log_var = args\n",
    "    epsilon = K.random_normal(shape=K.shape(mu), mean=0, stddev=1.0)\n",
    "    return mu + K.exp(0.5 * log_var)*epsilon\n",
    "\n",
    "latent_vec = Lambda(sampling,output_shape=(latent_dim,))([mu,log_var])"
   ]
  },
  {
   "cell_type": "code",
   "execution_count": 6,
   "metadata": {},
   "outputs": [
    {
     "data": {
      "text/plain": [
       "(128, 128, 64)"
      ]
     },
     "execution_count": 6,
     "metadata": {},
     "output_type": "execute_result"
    }
   ],
   "source": [
    "shape_before_flatten[1:]"
   ]
  },
  {
   "cell_type": "code",
   "execution_count": 6,
   "metadata": {},
   "outputs": [
    {
     "name": "stdout",
     "output_type": "stream",
     "text": [
      "Model: \"encoder_mu_log_var\"\n",
      "__________________________________________________________________________________________________\n",
      " Layer (type)                   Output Shape         Param #     Connected to                     \n",
      "==================================================================================================\n",
      " input_1 (InputLayer)           [(None, 128, 128, 3  0           []                               \n",
      "                                )]                                                                \n",
      "                                                                                                  \n",
      " conv2d (Conv2D)                (None, 128, 128, 3)  39          ['input_1[0][0]']                \n",
      "                                                                                                  \n",
      " leaky_re_lu (LeakyReLU)        (None, 128, 128, 3)  0           ['conv2d[0][0]']                 \n",
      "                                                                                                  \n",
      " conv2d_1 (Conv2D)              (None, 128, 128, 64  832         ['leaky_re_lu[0][0]']            \n",
      "                                )                                                                 \n",
      "                                                                                                  \n",
      " leaky_re_lu_1 (LeakyReLU)      (None, 128, 128, 64  0           ['conv2d_1[0][0]']               \n",
      "                                )                                                                 \n",
      "                                                                                                  \n",
      " conv2d_2 (Conv2D)              (None, 128, 128, 64  36928       ['leaky_re_lu_1[0][0]']          \n",
      "                                )                                                                 \n",
      "                                                                                                  \n",
      " leaky_re_lu_2 (LeakyReLU)      (None, 128, 128, 64  0           ['conv2d_2[0][0]']               \n",
      "                                )                                                                 \n",
      "                                                                                                  \n",
      " conv2d_3 (Conv2D)              (None, 128, 128, 64  36928       ['leaky_re_lu_2[0][0]']          \n",
      "                                )                                                                 \n",
      "                                                                                                  \n",
      " leaky_re_lu_3 (LeakyReLU)      (None, 128, 128, 64  0           ['conv2d_3[0][0]']               \n",
      "                                )                                                                 \n",
      "                                                                                                  \n",
      " flatten (Flatten)              (None, 1048576)      0           ['leaky_re_lu_3[0][0]']          \n",
      "                                                                                                  \n",
      " dense (Dense)                  (None, 100)          104857700   ['flatten[0][0]']                \n",
      "                                                                                                  \n",
      " leaky_re_lu_4 (LeakyReLU)      (None, 100)          0           ['dense[0][0]']                  \n",
      "                                                                                                  \n",
      " dense_1 (Dense)                (None, 200)          20200       ['leaky_re_lu_4[0][0]']          \n",
      "                                                                                                  \n",
      " dense_2 (Dense)                (None, 200)          20200       ['leaky_re_lu_4[0][0]']          \n",
      "                                                                                                  \n",
      "==================================================================================================\n",
      "Total params: 104,972,827\n",
      "Trainable params: 104,972,827\n",
      "Non-trainable params: 0\n",
      "__________________________________________________________________________________________________\n"
     ]
    }
   ],
   "source": [
    "temp_model_1 = Model(input_layer,(mu,log_var),name='encoder_mu_log_var')\n",
    "temp_model_1.summary()"
   ]
  },
  {
   "cell_type": "code",
   "execution_count": 7,
   "metadata": {},
   "outputs": [],
   "source": [
    "hidden_deocoder = Dense(intermed_dim,activation='relu')\n",
    "upsampled_decoder = Dense(filters * 128 * 128, activation='relu')"
   ]
  },
  {
   "cell_type": "code",
   "execution_count": 8,
   "metadata": {},
   "outputs": [
    {
     "name": "stdout",
     "output_type": "stream",
     "text": [
      "The output shape 1 =  (32, 128, 128, 64)\n"
     ]
    }
   ],
   "source": [
    "output_shape = (batch_size,128,128,filters)\n",
    "print(\"The output shape 1 = \", output_shape)"
   ]
  },
  {
   "cell_type": "code",
   "execution_count": 10,
   "metadata": {},
   "outputs": [],
   "source": [
    "decoder_reshape = Reshape(output_shape[1:])\n",
    "deconv_1 = Conv2DTranspose(filters, kernel_size=kernel_size, padding='same',activation='relu')\n",
    "deconv_2 = Conv2DTranspose(filters,kernel_size=kernel_size,padding='same',activation='relu')\n",
    "\n",
    "deconv_3 = Conv2DTranspose(filters, kernel_size=(3,3),strides=(2,2), padding='valid', activation='relu')\n",
    "deconv_mean_squash = Conv2D(img_chns,kernel_size=2,padding='valid',activation='sigmoid')\n",
    "\n",
    "output_shape = (batch_size,256,256,filters)\n",
    "\n",
    "y = hidden_deocoder(latent_vec)\n",
    "y = upsampled_decoder(y)\n",
    "y = decoder_reshape(y)\n",
    "y = deconv_1(y)\n",
    "y = deconv_2(y)\n",
    "y = deconv_3(y)\n",
    "y = deconv_mean_squash(y)"
   ]
  },
  {
   "cell_type": "code",
   "execution_count": 11,
   "metadata": {},
   "outputs": [
    {
     "name": "stdout",
     "output_type": "stream",
     "text": [
      "Model: \"model\"\n",
      "__________________________________________________________________________________________________\n",
      " Layer (type)                   Output Shape         Param #     Connected to                     \n",
      "==================================================================================================\n",
      " input_2 (InputLayer)           [(None, 100)]        0           []                               \n",
      "                                                                                                  \n",
      " dense_1 (Dense)                (None, 200)          20200       ['input_2[0][0]']                \n",
      "                                                                                                  \n",
      " dense_2 (Dense)                (None, 200)          20200       ['input_2[0][0]']                \n",
      "                                                                                                  \n",
      " lambda (Lambda)                (None, 200)          0           ['dense_1[1][0]',                \n",
      "                                                                  'dense_2[1][0]']                \n",
      "                                                                                                  \n",
      " dense_3 (Dense)                (None, 100)          20100       ['lambda[1][0]']                 \n",
      "                                                                                                  \n",
      " dense_4 (Dense)                (None, 1048576)      105906176   ['dense_3[1][0]']                \n",
      "                                                                                                  \n",
      " reshape (Reshape)              (None, 128, 128, 64  0           ['dense_4[1][0]']                \n",
      "                                )                                                                 \n",
      "                                                                                                  \n",
      " conv2d_transpose (Conv2DTransp  (None, 128, 128, 64  36928      ['reshape[1][0]']                \n",
      " ose)                           )                                                                 \n",
      "                                                                                                  \n",
      " conv2d_transpose_1 (Conv2DTran  (None, 128, 128, 64  36928      ['conv2d_transpose[1][0]']       \n",
      " spose)                         )                                                                 \n",
      "                                                                                                  \n",
      " conv2d_transpose_2 (Conv2DTran  (None, 257, 257, 64  36928      ['conv2d_transpose_1[1][0]']     \n",
      " spose)                         )                                                                 \n",
      "                                                                                                  \n",
      " conv2d_4 (Conv2D)              (None, 256, 256, 3)  771         ['conv2d_transpose_2[1][0]']     \n",
      "                                                                                                  \n",
      "==================================================================================================\n",
      "Total params: 106,078,231\n",
      "Trainable params: 106,078,231\n",
      "Non-trainable params: 0\n",
      "__________________________________________________________________________________________________\n"
     ]
    }
   ],
   "source": [
    "VAE = Model(x,y)\n",
    "VAE.summary()"
   ]
  },
  {
   "cell_type": "code",
   "execution_count": null,
   "metadata": {},
   "outputs": [],
   "source": []
  }
 ],
 "metadata": {
  "kernelspec": {
   "display_name": "Python 3",
   "language": "python",
   "name": "python3"
  },
  "language_info": {
   "codemirror_mode": {
    "name": "ipython",
    "version": 3
   },
   "file_extension": ".py",
   "mimetype": "text/x-python",
   "name": "python",
   "nbconvert_exporter": "python",
   "pygments_lexer": "ipython3",
   "version": "3.10.0"
  },
  "orig_nbformat": 4
 },
 "nbformat": 4,
 "nbformat_minor": 2
}
